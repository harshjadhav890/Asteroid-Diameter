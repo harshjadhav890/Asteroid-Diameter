{
 "cells": [
  {
   "cell_type": "markdown",
   "metadata": {},
   "source": [
    "**Importing Libraries**"
   ]
  },
  {
   "cell_type": "code",
   "execution_count": 231,
   "metadata": {},
   "outputs": [],
   "source": [
    "import numpy as np\n",
    "import pandas as pd\n",
    "import matplotlib.pyplot as plt\n",
    "import seaborn as sns\n",
    "import xgboost as xgb\n",
    "sns.set_style(\"darkgrid\")\n",
    "\n",
    "from sklearn.model_selection import train_test_split"
   ]
  },
  {
   "cell_type": "markdown",
   "metadata": {},
   "source": [
    "<h1 align=\"center\">📈Data processing</h1>"
   ]
  },
  {
   "cell_type": "markdown",
   "metadata": {},
   "source": [
    "<h3 align=\"center\"><B>Importing Data</B></h3>"
   ]
  },
  {
   "cell_type": "code",
   "execution_count": 232,
   "metadata": {},
   "outputs": [],
   "source": [
    "df = pd.read_csv('Asteroid_Updated.csv', low_memory=False)"
   ]
  },
  {
   "cell_type": "code",
   "execution_count": 233,
   "metadata": {},
   "outputs": [
    {
     "data": {
      "text/html": [
       "<div>\n",
       "<style scoped>\n",
       "    .dataframe tbody tr th:only-of-type {\n",
       "        vertical-align: middle;\n",
       "    }\n",
       "\n",
       "    .dataframe tbody tr th {\n",
       "        vertical-align: top;\n",
       "    }\n",
       "\n",
       "    .dataframe thead th {\n",
       "        text-align: right;\n",
       "    }\n",
       "</style>\n",
       "<table border=\"1\" class=\"dataframe\">\n",
       "  <thead>\n",
       "    <tr style=\"text-align: right;\">\n",
       "      <th></th>\n",
       "      <th>name</th>\n",
       "      <th>a</th>\n",
       "      <th>e</th>\n",
       "      <th>i</th>\n",
       "      <th>om</th>\n",
       "      <th>w</th>\n",
       "      <th>q</th>\n",
       "      <th>ad</th>\n",
       "      <th>per_y</th>\n",
       "      <th>data_arc</th>\n",
       "      <th>...</th>\n",
       "      <th>UB</th>\n",
       "      <th>IR</th>\n",
       "      <th>spec_B</th>\n",
       "      <th>spec_T</th>\n",
       "      <th>G</th>\n",
       "      <th>moid</th>\n",
       "      <th>class</th>\n",
       "      <th>n</th>\n",
       "      <th>per</th>\n",
       "      <th>ma</th>\n",
       "    </tr>\n",
       "  </thead>\n",
       "  <tbody>\n",
       "    <tr>\n",
       "      <th>0</th>\n",
       "      <td>Ceres</td>\n",
       "      <td>2.769165</td>\n",
       "      <td>0.076009</td>\n",
       "      <td>10.594067</td>\n",
       "      <td>80.305532</td>\n",
       "      <td>73.597694</td>\n",
       "      <td>2.558684</td>\n",
       "      <td>2.979647</td>\n",
       "      <td>4.608202</td>\n",
       "      <td>8822.0</td>\n",
       "      <td>...</td>\n",
       "      <td>0.426</td>\n",
       "      <td>NaN</td>\n",
       "      <td>C</td>\n",
       "      <td>G</td>\n",
       "      <td>0.12</td>\n",
       "      <td>1.59478</td>\n",
       "      <td>MBA</td>\n",
       "      <td>0.213885</td>\n",
       "      <td>1683.145708</td>\n",
       "      <td>77.372096</td>\n",
       "    </tr>\n",
       "    <tr>\n",
       "      <th>1</th>\n",
       "      <td>Pallas</td>\n",
       "      <td>2.772466</td>\n",
       "      <td>0.230337</td>\n",
       "      <td>34.836234</td>\n",
       "      <td>173.080063</td>\n",
       "      <td>310.048857</td>\n",
       "      <td>2.133865</td>\n",
       "      <td>3.411067</td>\n",
       "      <td>4.616444</td>\n",
       "      <td>72318.0</td>\n",
       "      <td>...</td>\n",
       "      <td>0.284</td>\n",
       "      <td>NaN</td>\n",
       "      <td>B</td>\n",
       "      <td>B</td>\n",
       "      <td>0.11</td>\n",
       "      <td>1.23324</td>\n",
       "      <td>MBA</td>\n",
       "      <td>0.213503</td>\n",
       "      <td>1686.155999</td>\n",
       "      <td>59.699133</td>\n",
       "    </tr>\n",
       "    <tr>\n",
       "      <th>2</th>\n",
       "      <td>Juno</td>\n",
       "      <td>2.669150</td>\n",
       "      <td>0.256942</td>\n",
       "      <td>12.988919</td>\n",
       "      <td>169.852760</td>\n",
       "      <td>248.138626</td>\n",
       "      <td>1.983332</td>\n",
       "      <td>3.354967</td>\n",
       "      <td>4.360814</td>\n",
       "      <td>72684.0</td>\n",
       "      <td>...</td>\n",
       "      <td>0.433</td>\n",
       "      <td>NaN</td>\n",
       "      <td>Sk</td>\n",
       "      <td>S</td>\n",
       "      <td>0.32</td>\n",
       "      <td>1.03454</td>\n",
       "      <td>MBA</td>\n",
       "      <td>0.226019</td>\n",
       "      <td>1592.787285</td>\n",
       "      <td>34.925016</td>\n",
       "    </tr>\n",
       "    <tr>\n",
       "      <th>3</th>\n",
       "      <td>Vesta</td>\n",
       "      <td>2.361418</td>\n",
       "      <td>0.088721</td>\n",
       "      <td>7.141771</td>\n",
       "      <td>103.810804</td>\n",
       "      <td>150.728541</td>\n",
       "      <td>2.151909</td>\n",
       "      <td>2.570926</td>\n",
       "      <td>3.628837</td>\n",
       "      <td>24288.0</td>\n",
       "      <td>...</td>\n",
       "      <td>0.492</td>\n",
       "      <td>NaN</td>\n",
       "      <td>V</td>\n",
       "      <td>V</td>\n",
       "      <td>0.32</td>\n",
       "      <td>1.13948</td>\n",
       "      <td>MBA</td>\n",
       "      <td>0.271609</td>\n",
       "      <td>1325.432765</td>\n",
       "      <td>95.861936</td>\n",
       "    </tr>\n",
       "    <tr>\n",
       "      <th>4</th>\n",
       "      <td>Astraea</td>\n",
       "      <td>2.574249</td>\n",
       "      <td>0.191095</td>\n",
       "      <td>5.366988</td>\n",
       "      <td>141.576605</td>\n",
       "      <td>358.687607</td>\n",
       "      <td>2.082324</td>\n",
       "      <td>3.066174</td>\n",
       "      <td>4.130323</td>\n",
       "      <td>63507.0</td>\n",
       "      <td>...</td>\n",
       "      <td>0.411</td>\n",
       "      <td>NaN</td>\n",
       "      <td>S</td>\n",
       "      <td>S</td>\n",
       "      <td>NaN</td>\n",
       "      <td>1.09589</td>\n",
       "      <td>MBA</td>\n",
       "      <td>0.238632</td>\n",
       "      <td>1508.600458</td>\n",
       "      <td>282.366289</td>\n",
       "    </tr>\n",
       "  </tbody>\n",
       "</table>\n",
       "<p>5 rows × 31 columns</p>\n",
       "</div>"
      ],
      "text/plain": [
       "      name         a         e          i          om           w         q  \\\n",
       "0    Ceres  2.769165  0.076009  10.594067   80.305532   73.597694  2.558684   \n",
       "1   Pallas  2.772466  0.230337  34.836234  173.080063  310.048857  2.133865   \n",
       "2     Juno  2.669150  0.256942  12.988919  169.852760  248.138626  1.983332   \n",
       "3    Vesta  2.361418  0.088721   7.141771  103.810804  150.728541  2.151909   \n",
       "4  Astraea  2.574249  0.191095   5.366988  141.576605  358.687607  2.082324   \n",
       "\n",
       "         ad     per_y  data_arc  ...     UB  IR  spec_B spec_T     G     moid  \\\n",
       "0  2.979647  4.608202    8822.0  ...  0.426 NaN       C      G  0.12  1.59478   \n",
       "1  3.411067  4.616444   72318.0  ...  0.284 NaN       B      B  0.11  1.23324   \n",
       "2  3.354967  4.360814   72684.0  ...  0.433 NaN      Sk      S  0.32  1.03454   \n",
       "3  2.570926  3.628837   24288.0  ...  0.492 NaN       V      V  0.32  1.13948   \n",
       "4  3.066174  4.130323   63507.0  ...  0.411 NaN       S      S   NaN  1.09589   \n",
       "\n",
       "  class         n          per          ma  \n",
       "0   MBA  0.213885  1683.145708   77.372096  \n",
       "1   MBA  0.213503  1686.155999   59.699133  \n",
       "2   MBA  0.226019  1592.787285   34.925016  \n",
       "3   MBA  0.271609  1325.432765   95.861936  \n",
       "4   MBA  0.238632  1508.600458  282.366289  \n",
       "\n",
       "[5 rows x 31 columns]"
      ]
     },
     "execution_count": 233,
     "metadata": {},
     "output_type": "execute_result"
    }
   ],
   "source": [
    "df.head()"
   ]
  },
  {
   "cell_type": "code",
   "execution_count": 234,
   "metadata": {},
   "outputs": [
    {
     "data": {
      "text/plain": [
       "S    338\n",
       "C    140\n",
       "X     52\n",
       "M     38\n",
       "D     35\n",
       "Name: spec_T, dtype: int64"
      ]
     },
     "execution_count": 234,
     "metadata": {},
     "output_type": "execute_result"
    }
   ],
   "source": [
    "df.spec_T.value_counts().sort_values(ascending=False).head()\n",
    "# Remove the .head() function above to see the massive amount of classes that spec_B and spec_T contain\n",
    "# Therefore I am not going to one-hot encode the values"
   ]
  },
  {
   "cell_type": "markdown",
   "metadata": {},
   "source": [
    "<h3 align=\"center\"><B>Cleaning and Processing the Data</B></h3>"
   ]
  },
  {
   "cell_type": "code",
   "execution_count": 235,
   "metadata": {},
   "outputs": [
    {
     "data": {
      "text/html": [
       "<div>\n",
       "<style scoped>\n",
       "    .dataframe tbody tr th:only-of-type {\n",
       "        vertical-align: middle;\n",
       "    }\n",
       "\n",
       "    .dataframe tbody tr th {\n",
       "        vertical-align: top;\n",
       "    }\n",
       "\n",
       "    .dataframe thead th {\n",
       "        text-align: right;\n",
       "    }\n",
       "</style>\n",
       "<table border=\"1\" class=\"dataframe\">\n",
       "  <thead>\n",
       "    <tr style=\"text-align: right;\">\n",
       "      <th></th>\n",
       "      <th>index</th>\n",
       "      <th>a</th>\n",
       "      <th>e</th>\n",
       "      <th>i</th>\n",
       "      <th>om</th>\n",
       "      <th>w</th>\n",
       "      <th>q</th>\n",
       "      <th>ad</th>\n",
       "      <th>per_y</th>\n",
       "      <th>data_arc</th>\n",
       "      <th>n_obs_used</th>\n",
       "      <th>H</th>\n",
       "      <th>diameter</th>\n",
       "      <th>albedo</th>\n",
       "      <th>rot_per</th>\n",
       "      <th>moid</th>\n",
       "      <th>n</th>\n",
       "      <th>per</th>\n",
       "      <th>ma</th>\n",
       "    </tr>\n",
       "  </thead>\n",
       "  <tbody>\n",
       "    <tr>\n",
       "      <th>0</th>\n",
       "      <td>0</td>\n",
       "      <td>2.76917</td>\n",
       "      <td>0.07601</td>\n",
       "      <td>10.59407</td>\n",
       "      <td>80.30553</td>\n",
       "      <td>73.59769</td>\n",
       "      <td>2.55868</td>\n",
       "      <td>2.97965</td>\n",
       "      <td>4.60820</td>\n",
       "      <td>8822.0</td>\n",
       "      <td>1002.0</td>\n",
       "      <td>3.34</td>\n",
       "      <td>939.400</td>\n",
       "      <td>0.0900</td>\n",
       "      <td>9.07417</td>\n",
       "      <td>1.59478</td>\n",
       "      <td>0.21389</td>\n",
       "      <td>1683.14571</td>\n",
       "      <td>77.37210</td>\n",
       "    </tr>\n",
       "    <tr>\n",
       "      <th>1</th>\n",
       "      <td>1</td>\n",
       "      <td>2.77247</td>\n",
       "      <td>0.23034</td>\n",
       "      <td>34.83623</td>\n",
       "      <td>173.08006</td>\n",
       "      <td>310.04886</td>\n",
       "      <td>2.13386</td>\n",
       "      <td>3.41107</td>\n",
       "      <td>4.61644</td>\n",
       "      <td>72318.0</td>\n",
       "      <td>8490.0</td>\n",
       "      <td>4.13</td>\n",
       "      <td>545.000</td>\n",
       "      <td>0.1010</td>\n",
       "      <td>7.81320</td>\n",
       "      <td>1.23324</td>\n",
       "      <td>0.21350</td>\n",
       "      <td>1686.15600</td>\n",
       "      <td>59.69913</td>\n",
       "    </tr>\n",
       "    <tr>\n",
       "      <th>2</th>\n",
       "      <td>2</td>\n",
       "      <td>2.66915</td>\n",
       "      <td>0.25694</td>\n",
       "      <td>12.98892</td>\n",
       "      <td>169.85276</td>\n",
       "      <td>248.13863</td>\n",
       "      <td>1.98333</td>\n",
       "      <td>3.35497</td>\n",
       "      <td>4.36081</td>\n",
       "      <td>72684.0</td>\n",
       "      <td>7104.0</td>\n",
       "      <td>5.33</td>\n",
       "      <td>246.596</td>\n",
       "      <td>0.2140</td>\n",
       "      <td>7.21000</td>\n",
       "      <td>1.03454</td>\n",
       "      <td>0.22602</td>\n",
       "      <td>1592.78729</td>\n",
       "      <td>34.92502</td>\n",
       "    </tr>\n",
       "    <tr>\n",
       "      <th>3</th>\n",
       "      <td>3</td>\n",
       "      <td>2.36142</td>\n",
       "      <td>0.08872</td>\n",
       "      <td>7.14177</td>\n",
       "      <td>103.81080</td>\n",
       "      <td>150.72854</td>\n",
       "      <td>2.15191</td>\n",
       "      <td>2.57093</td>\n",
       "      <td>3.62884</td>\n",
       "      <td>24288.0</td>\n",
       "      <td>9325.0</td>\n",
       "      <td>3.20</td>\n",
       "      <td>525.400</td>\n",
       "      <td>0.4228</td>\n",
       "      <td>5.34213</td>\n",
       "      <td>1.13948</td>\n",
       "      <td>0.27161</td>\n",
       "      <td>1325.43276</td>\n",
       "      <td>95.86194</td>\n",
       "    </tr>\n",
       "    <tr>\n",
       "      <th>4</th>\n",
       "      <td>4</td>\n",
       "      <td>2.57425</td>\n",
       "      <td>0.19109</td>\n",
       "      <td>5.36699</td>\n",
       "      <td>141.57660</td>\n",
       "      <td>358.68761</td>\n",
       "      <td>2.08232</td>\n",
       "      <td>3.06617</td>\n",
       "      <td>4.13032</td>\n",
       "      <td>63507.0</td>\n",
       "      <td>2916.0</td>\n",
       "      <td>6.85</td>\n",
       "      <td>106.699</td>\n",
       "      <td>0.2740</td>\n",
       "      <td>16.80600</td>\n",
       "      <td>1.09589</td>\n",
       "      <td>0.23863</td>\n",
       "      <td>1508.60046</td>\n",
       "      <td>282.36629</td>\n",
       "    </tr>\n",
       "  </tbody>\n",
       "</table>\n",
       "</div>"
      ],
      "text/plain": [
       "   index        a        e         i         om          w        q       ad  \\\n",
       "0      0  2.76917  0.07601  10.59407   80.30553   73.59769  2.55868  2.97965   \n",
       "1      1  2.77247  0.23034  34.83623  173.08006  310.04886  2.13386  3.41107   \n",
       "2      2  2.66915  0.25694  12.98892  169.85276  248.13863  1.98333  3.35497   \n",
       "3      3  2.36142  0.08872   7.14177  103.81080  150.72854  2.15191  2.57093   \n",
       "4      4  2.57425  0.19109   5.36699  141.57660  358.68761  2.08232  3.06617   \n",
       "\n",
       "     per_y  data_arc  n_obs_used     H  diameter  albedo   rot_per     moid  \\\n",
       "0  4.60820    8822.0      1002.0  3.34   939.400  0.0900   9.07417  1.59478   \n",
       "1  4.61644   72318.0      8490.0  4.13   545.000  0.1010   7.81320  1.23324   \n",
       "2  4.36081   72684.0      7104.0  5.33   246.596  0.2140   7.21000  1.03454   \n",
       "3  3.62884   24288.0      9325.0  3.20   525.400  0.4228   5.34213  1.13948   \n",
       "4  4.13032   63507.0      2916.0  6.85   106.699  0.2740  16.80600  1.09589   \n",
       "\n",
       "         n         per         ma  \n",
       "0  0.21389  1683.14571   77.37210  \n",
       "1  0.21350  1686.15600   59.69913  \n",
       "2  0.22602  1592.78729   34.92502  \n",
       "3  0.27161  1325.43276   95.86194  \n",
       "4  0.23863  1508.60046  282.36629  "
      ]
     },
     "execution_count": 235,
     "metadata": {},
     "output_type": "execute_result"
    }
   ],
   "source": [
    "# Creating our main Dataset\n",
    "\n",
    "columns=['a', 'e', 'i', 'om', 'w', 'q', 'ad', 'per_y', 'data_arc', 'n_obs_used', 'H', 'diameter', 'albedo', 'rot_per', 'moid','n', 'per', 'ma']\n",
    "df = df[columns]\n",
    "# Columns dropped from the original dataset: \n",
    "# [extent, GM, IR, BV, UB, G](Because many values were missing)\n",
    "# [spec_B, spec_T](Contained too many variables(34 each!!!) to apply one hot encoding)\n",
    "# [neo, pha, class, condition_code](Factors that dont affect diameter))\n",
    "\n",
    "df = df.dropna(subset=[\"diameter\", \"rot_per\"]) # Removing null values \n",
    "df = df[pd.to_numeric(df['diameter'], errors='coerce').notnull()] # Removing non numeric values\n",
    "df = df.interpolate() # Substituting Variables. Not a good idea :/ I know\n",
    "df = df.round(decimals=5) # Rounds Float Values\n",
    "# Scaling has been performed later\n",
    "df = df.astype(float)\n",
    "df = df.reset_index() # Resetting dataframe indexes  \n",
    "\n",
    "df.head()"
   ]
  },
  {
   "cell_type": "markdown",
   "metadata": {},
   "source": [
    "<h3 align=\"center\"><B>Detecting and Removing Outliers</B></h3>"
   ]
  },
  {
   "cell_type": "code",
   "execution_count": 236,
   "metadata": {},
   "outputs": [
    {
     "data": {
      "text/html": [
       "<div>\n",
       "<style scoped>\n",
       "    .dataframe tbody tr th:only-of-type {\n",
       "        vertical-align: middle;\n",
       "    }\n",
       "\n",
       "    .dataframe tbody tr th {\n",
       "        vertical-align: top;\n",
       "    }\n",
       "\n",
       "    .dataframe thead th {\n",
       "        text-align: right;\n",
       "    }\n",
       "</style>\n",
       "<table border=\"1\" class=\"dataframe\">\n",
       "  <thead>\n",
       "    <tr style=\"text-align: right;\">\n",
       "      <th></th>\n",
       "      <th>index</th>\n",
       "      <th>a</th>\n",
       "      <th>e</th>\n",
       "      <th>i</th>\n",
       "      <th>om</th>\n",
       "      <th>w</th>\n",
       "      <th>q</th>\n",
       "      <th>ad</th>\n",
       "      <th>per_y</th>\n",
       "      <th>data_arc</th>\n",
       "      <th>n_obs_used</th>\n",
       "      <th>H</th>\n",
       "      <th>diameter</th>\n",
       "      <th>albedo</th>\n",
       "      <th>rot_per</th>\n",
       "      <th>moid</th>\n",
       "      <th>n</th>\n",
       "      <th>per</th>\n",
       "      <th>ma</th>\n",
       "    </tr>\n",
       "  </thead>\n",
       "  <tbody>\n",
       "    <tr>\n",
       "      <th>count</th>\n",
       "      <td>11187.000000</td>\n",
       "      <td>11187.000000</td>\n",
       "      <td>11187.000000</td>\n",
       "      <td>11187.000000</td>\n",
       "      <td>11187.000000</td>\n",
       "      <td>11187.000000</td>\n",
       "      <td>11187.000000</td>\n",
       "      <td>11187.000000</td>\n",
       "      <td>11187.000000</td>\n",
       "      <td>11187.000000</td>\n",
       "      <td>11187.000000</td>\n",
       "      <td>11187.000000</td>\n",
       "      <td>11187.000000</td>\n",
       "      <td>11187.000000</td>\n",
       "      <td>11187.000000</td>\n",
       "      <td>11187.000000</td>\n",
       "      <td>11187.000000</td>\n",
       "      <td>11187.000000</td>\n",
       "      <td>11187.000000</td>\n",
       "    </tr>\n",
       "    <tr>\n",
       "      <th>mean</th>\n",
       "      <td>46546.355055</td>\n",
       "      <td>2.779223</td>\n",
       "      <td>0.151047</td>\n",
       "      <td>9.627658</td>\n",
       "      <td>178.126408</td>\n",
       "      <td>175.622736</td>\n",
       "      <td>2.361635</td>\n",
       "      <td>3.196810</td>\n",
       "      <td>4.829628</td>\n",
       "      <td>18146.572540</td>\n",
       "      <td>1568.424153</td>\n",
       "      <td>13.337431</td>\n",
       "      <td>15.334104</td>\n",
       "      <td>0.190998</td>\n",
       "      <td>23.567742</td>\n",
       "      <td>1.381655</td>\n",
       "      <td>0.234552</td>\n",
       "      <td>1764.021784</td>\n",
       "      <td>177.441134</td>\n",
       "    </tr>\n",
       "    <tr>\n",
       "      <th>std</th>\n",
       "      <td>75397.173948</td>\n",
       "      <td>1.182410</td>\n",
       "      <td>0.090524</td>\n",
       "      <td>6.914225</td>\n",
       "      <td>103.212009</td>\n",
       "      <td>103.573424</td>\n",
       "      <td>0.810528</td>\n",
       "      <td>1.773194</td>\n",
       "      <td>7.039047</td>\n",
       "      <td>11753.922041</td>\n",
       "      <td>762.840547</td>\n",
       "      <td>2.025789</td>\n",
       "      <td>29.129889</td>\n",
       "      <td>0.141932</td>\n",
       "      <td>74.833025</td>\n",
       "      <td>0.800590</td>\n",
       "      <td>0.093663</td>\n",
       "      <td>2571.012096</td>\n",
       "      <td>103.289109</td>\n",
       "    </tr>\n",
       "    <tr>\n",
       "      <th>min</th>\n",
       "      <td>0.000000</td>\n",
       "      <td>0.642200</td>\n",
       "      <td>0.001140</td>\n",
       "      <td>0.042710</td>\n",
       "      <td>0.000740</td>\n",
       "      <td>0.026560</td>\n",
       "      <td>0.092050</td>\n",
       "      <td>0.999960</td>\n",
       "      <td>0.514650</td>\n",
       "      <td>3.000000</td>\n",
       "      <td>51.000000</td>\n",
       "      <td>3.200000</td>\n",
       "      <td>0.002500</td>\n",
       "      <td>0.008000</td>\n",
       "      <td>0.029950</td>\n",
       "      <td>0.000170</td>\n",
       "      <td>0.002490</td>\n",
       "      <td>187.974700</td>\n",
       "      <td>0.057140</td>\n",
       "    </tr>\n",
       "    <tr>\n",
       "      <th>25%</th>\n",
       "      <td>3685.500000</td>\n",
       "      <td>2.386760</td>\n",
       "      <td>0.091105</td>\n",
       "      <td>4.405840</td>\n",
       "      <td>92.787525</td>\n",
       "      <td>85.955140</td>\n",
       "      <td>1.987855</td>\n",
       "      <td>2.790070</td>\n",
       "      <td>3.687410</td>\n",
       "      <td>8780.000000</td>\n",
       "      <td>974.500000</td>\n",
       "      <td>12.300000</td>\n",
       "      <td>3.999000</td>\n",
       "      <td>0.070000</td>\n",
       "      <td>4.670500</td>\n",
       "      <td>0.997345</td>\n",
       "      <td>0.187335</td>\n",
       "      <td>1346.826770</td>\n",
       "      <td>88.504820</td>\n",
       "    </tr>\n",
       "    <tr>\n",
       "      <th>50%</th>\n",
       "      <td>16033.000000</td>\n",
       "      <td>2.663590</td>\n",
       "      <td>0.139280</td>\n",
       "      <td>8.458100</td>\n",
       "      <td>171.779230</td>\n",
       "      <td>170.507400</td>\n",
       "      <td>2.264330</td>\n",
       "      <td>3.065580</td>\n",
       "      <td>4.347200</td>\n",
       "      <td>13976.000000</td>\n",
       "      <td>1561.000000</td>\n",
       "      <td>13.600000</td>\n",
       "      <td>6.603000</td>\n",
       "      <td>0.171000</td>\n",
       "      <td>7.560000</td>\n",
       "      <td>1.279900</td>\n",
       "      <td>0.226730</td>\n",
       "      <td>1587.815060</td>\n",
       "      <td>175.094900</td>\n",
       "    </tr>\n",
       "    <tr>\n",
       "      <th>75%</th>\n",
       "      <td>53910.500000</td>\n",
       "      <td>3.025010</td>\n",
       "      <td>0.192700</td>\n",
       "      <td>13.063225</td>\n",
       "      <td>270.182325</td>\n",
       "      <td>266.079720</td>\n",
       "      <td>2.652795</td>\n",
       "      <td>3.394545</td>\n",
       "      <td>5.261365</td>\n",
       "      <td>24725.000000</td>\n",
       "      <td>2129.500000</td>\n",
       "      <td>14.600000</td>\n",
       "      <td>13.256000</td>\n",
       "      <td>0.273000</td>\n",
       "      <td>14.583000</td>\n",
       "      <td>1.659545</td>\n",
       "      <td>0.267295</td>\n",
       "      <td>1921.714955</td>\n",
       "      <td>264.663175</td>\n",
       "    </tr>\n",
       "    <tr>\n",
       "      <th>max</th>\n",
       "      <td>729174.000000</td>\n",
       "      <td>53.920190</td>\n",
       "      <td>0.954480</td>\n",
       "      <td>118.969970</td>\n",
       "      <td>359.915760</td>\n",
       "      <td>359.988890</td>\n",
       "      <td>40.465670</td>\n",
       "      <td>105.385950</td>\n",
       "      <td>395.945420</td>\n",
       "      <td>72684.000000</td>\n",
       "      <td>9325.000000</td>\n",
       "      <td>29.900000</td>\n",
       "      <td>939.400000</td>\n",
       "      <td>1.000000</td>\n",
       "      <td>1880.000000</td>\n",
       "      <td>39.507000</td>\n",
       "      <td>1.915150</td>\n",
       "      <td>144619.064200</td>\n",
       "      <td>359.989550</td>\n",
       "    </tr>\n",
       "  </tbody>\n",
       "</table>\n",
       "</div>"
      ],
      "text/plain": [
       "               index             a             e             i            om  \\\n",
       "count   11187.000000  11187.000000  11187.000000  11187.000000  11187.000000   \n",
       "mean    46546.355055      2.779223      0.151047      9.627658    178.126408   \n",
       "std     75397.173948      1.182410      0.090524      6.914225    103.212009   \n",
       "min         0.000000      0.642200      0.001140      0.042710      0.000740   \n",
       "25%      3685.500000      2.386760      0.091105      4.405840     92.787525   \n",
       "50%     16033.000000      2.663590      0.139280      8.458100    171.779230   \n",
       "75%     53910.500000      3.025010      0.192700     13.063225    270.182325   \n",
       "max    729174.000000     53.920190      0.954480    118.969970    359.915760   \n",
       "\n",
       "                  w             q            ad         per_y      data_arc  \\\n",
       "count  11187.000000  11187.000000  11187.000000  11187.000000  11187.000000   \n",
       "mean     175.622736      2.361635      3.196810      4.829628  18146.572540   \n",
       "std      103.573424      0.810528      1.773194      7.039047  11753.922041   \n",
       "min        0.026560      0.092050      0.999960      0.514650      3.000000   \n",
       "25%       85.955140      1.987855      2.790070      3.687410   8780.000000   \n",
       "50%      170.507400      2.264330      3.065580      4.347200  13976.000000   \n",
       "75%      266.079720      2.652795      3.394545      5.261365  24725.000000   \n",
       "max      359.988890     40.465670    105.385950    395.945420  72684.000000   \n",
       "\n",
       "         n_obs_used             H      diameter        albedo       rot_per  \\\n",
       "count  11187.000000  11187.000000  11187.000000  11187.000000  11187.000000   \n",
       "mean    1568.424153     13.337431     15.334104      0.190998     23.567742   \n",
       "std      762.840547      2.025789     29.129889      0.141932     74.833025   \n",
       "min       51.000000      3.200000      0.002500      0.008000      0.029950   \n",
       "25%      974.500000     12.300000      3.999000      0.070000      4.670500   \n",
       "50%     1561.000000     13.600000      6.603000      0.171000      7.560000   \n",
       "75%     2129.500000     14.600000     13.256000      0.273000     14.583000   \n",
       "max     9325.000000     29.900000    939.400000      1.000000   1880.000000   \n",
       "\n",
       "               moid             n            per            ma  \n",
       "count  11187.000000  11187.000000   11187.000000  11187.000000  \n",
       "mean       1.381655      0.234552    1764.021784    177.441134  \n",
       "std        0.800590      0.093663    2571.012096    103.289109  \n",
       "min        0.000170      0.002490     187.974700      0.057140  \n",
       "25%        0.997345      0.187335    1346.826770     88.504820  \n",
       "50%        1.279900      0.226730    1587.815060    175.094900  \n",
       "75%        1.659545      0.267295    1921.714955    264.663175  \n",
       "max       39.507000      1.915150  144619.064200    359.989550  "
      ]
     },
     "execution_count": 236,
     "metadata": {},
     "output_type": "execute_result"
    }
   ],
   "source": [
    "df.describe()\n",
    "# displays values according to 'percentile' under every column\n",
    "# helpful in detecting outliers"
   ]
  },
  {
   "cell_type": "code",
   "execution_count": 237,
   "metadata": {},
   "outputs": [],
   "source": [
    "# Removing Outliers\n",
    "# These value were determined using the Seaborn widget above\n",
    "df = df[df.a < 20]\n",
    "df = df[df.q < 6]\n",
    "df = df[df.n_obs_used < 6000]\n",
    "df = df[df.per_y < 15]\n",
    "df = df[df.diameter < 400]\n",
    "df = df.reset_index()"
   ]
  },
  {
   "cell_type": "markdown",
   "metadata": {},
   "source": [
    "<h3 align=\"center\"><B>Looking for Correlations</B></h3>"
   ]
  },
  {
   "cell_type": "code",
   "execution_count": 238,
   "metadata": {},
   "outputs": [
    {
     "data": {
      "text/plain": [
       "diameter      1.000000\n",
       "data_arc      0.647487\n",
       "n_obs_used    0.486019\n",
       "a             0.336844\n",
       "per           0.332031\n",
       "per_y         0.332031\n",
       "ad            0.317814\n",
       "moid          0.317460\n",
       "q             0.312393\n",
       "i             0.090785\n",
       "ma            0.042665\n",
       "w             0.026346\n",
       "rot_per      -0.003568\n",
       "om           -0.024062\n",
       "e            -0.084419\n",
       "n            -0.233910\n",
       "index        -0.248551\n",
       "albedo       -0.295540\n",
       "level_0      -0.514822\n",
       "H            -0.750045\n",
       "Name: diameter, dtype: float64"
      ]
     },
     "execution_count": 238,
     "metadata": {},
     "output_type": "execute_result"
    }
   ],
   "source": [
    "# prints the correlations between diameter and all other attributes \n",
    "# A correlation of 1 suggests that the variable increases when diameter increases\n",
    "# -1 suggests that the variable decreases when diameter increases\n",
    "# 0 suggests no relation\n",
    "corr_matrix = df.corr()\n",
    "corr_matrix[\"diameter\"].sort_values(ascending=False)"
   ]
  },
  {
   "cell_type": "markdown",
   "metadata": {},
   "source": [
    "*H is the only variable that shares a clear correlation with diameter*</br>\n",
    "*You will see this affect the Decision tree*"
   ]
  },
  {
   "cell_type": "markdown",
   "metadata": {},
   "source": [
    "<h3 align=\"center\"><B>Creating a Target Dataset</B></h3>"
   ]
  },
  {
   "cell_type": "code",
   "execution_count": 239,
   "metadata": {},
   "outputs": [
    {
     "data": {
      "text/html": [
       "<div>\n",
       "<style scoped>\n",
       "    .dataframe tbody tr th:only-of-type {\n",
       "        vertical-align: middle;\n",
       "    }\n",
       "\n",
       "    .dataframe tbody tr th {\n",
       "        vertical-align: top;\n",
       "    }\n",
       "\n",
       "    .dataframe thead th {\n",
       "        text-align: right;\n",
       "    }\n",
       "</style>\n",
       "<table border=\"1\" class=\"dataframe\">\n",
       "  <thead>\n",
       "    <tr style=\"text-align: right;\">\n",
       "      <th></th>\n",
       "      <th>level_0</th>\n",
       "      <th>index</th>\n",
       "      <th>a</th>\n",
       "      <th>e</th>\n",
       "      <th>i</th>\n",
       "      <th>om</th>\n",
       "      <th>w</th>\n",
       "      <th>q</th>\n",
       "      <th>ad</th>\n",
       "      <th>per_y</th>\n",
       "      <th>data_arc</th>\n",
       "      <th>n_obs_used</th>\n",
       "      <th>H</th>\n",
       "      <th>albedo</th>\n",
       "      <th>rot_per</th>\n",
       "      <th>moid</th>\n",
       "      <th>n</th>\n",
       "      <th>per</th>\n",
       "      <th>ma</th>\n",
       "    </tr>\n",
       "  </thead>\n",
       "  <tbody>\n",
       "    <tr>\n",
       "      <th>0</th>\n",
       "      <td>4</td>\n",
       "      <td>4</td>\n",
       "      <td>2.57425</td>\n",
       "      <td>0.19109</td>\n",
       "      <td>5.36699</td>\n",
       "      <td>141.57660</td>\n",
       "      <td>358.68761</td>\n",
       "      <td>2.08232</td>\n",
       "      <td>3.06617</td>\n",
       "      <td>4.13032</td>\n",
       "      <td>63507.0</td>\n",
       "      <td>2916.0</td>\n",
       "      <td>6.85</td>\n",
       "      <td>0.2740</td>\n",
       "      <td>16.8060</td>\n",
       "      <td>1.09589</td>\n",
       "      <td>0.23863</td>\n",
       "      <td>1508.60046</td>\n",
       "      <td>282.36629</td>\n",
       "    </tr>\n",
       "    <tr>\n",
       "      <th>1</th>\n",
       "      <td>6</td>\n",
       "      <td>6</td>\n",
       "      <td>2.38533</td>\n",
       "      <td>0.23121</td>\n",
       "      <td>5.52365</td>\n",
       "      <td>259.56323</td>\n",
       "      <td>145.26511</td>\n",
       "      <td>1.83383</td>\n",
       "      <td>2.93684</td>\n",
       "      <td>3.68410</td>\n",
       "      <td>62452.0</td>\n",
       "      <td>5206.0</td>\n",
       "      <td>5.51</td>\n",
       "      <td>0.2766</td>\n",
       "      <td>7.1390</td>\n",
       "      <td>0.84610</td>\n",
       "      <td>0.26753</td>\n",
       "      <td>1345.61920</td>\n",
       "      <td>140.41966</td>\n",
       "    </tr>\n",
       "    <tr>\n",
       "      <th>2</th>\n",
       "      <td>7</td>\n",
       "      <td>7</td>\n",
       "      <td>2.20176</td>\n",
       "      <td>0.15650</td>\n",
       "      <td>5.88695</td>\n",
       "      <td>110.88933</td>\n",
       "      <td>285.28746</td>\n",
       "      <td>1.85719</td>\n",
       "      <td>2.54634</td>\n",
       "      <td>3.26711</td>\n",
       "      <td>62655.0</td>\n",
       "      <td>2744.0</td>\n",
       "      <td>6.49</td>\n",
       "      <td>0.2260</td>\n",
       "      <td>12.8650</td>\n",
       "      <td>0.87418</td>\n",
       "      <td>0.30168</td>\n",
       "      <td>1193.31372</td>\n",
       "      <td>194.88290</td>\n",
       "    </tr>\n",
       "    <tr>\n",
       "      <th>3</th>\n",
       "      <td>8</td>\n",
       "      <td>8</td>\n",
       "      <td>2.38564</td>\n",
       "      <td>0.12311</td>\n",
       "      <td>5.57682</td>\n",
       "      <td>68.90858</td>\n",
       "      <td>6.41737</td>\n",
       "      <td>2.09193</td>\n",
       "      <td>2.67934</td>\n",
       "      <td>3.68481</td>\n",
       "      <td>61821.0</td>\n",
       "      <td>2649.0</td>\n",
       "      <td>6.28</td>\n",
       "      <td>0.1180</td>\n",
       "      <td>5.0790</td>\n",
       "      <td>1.10691</td>\n",
       "      <td>0.26748</td>\n",
       "      <td>1345.87536</td>\n",
       "      <td>276.86162</td>\n",
       "    </tr>\n",
       "    <tr>\n",
       "      <th>4</th>\n",
       "      <td>10</td>\n",
       "      <td>10</td>\n",
       "      <td>2.45311</td>\n",
       "      <td>0.10047</td>\n",
       "      <td>4.62989</td>\n",
       "      <td>125.54659</td>\n",
       "      <td>195.55040</td>\n",
       "      <td>2.20664</td>\n",
       "      <td>2.69958</td>\n",
       "      <td>3.84223</td>\n",
       "      <td>61755.0</td>\n",
       "      <td>5492.0</td>\n",
       "      <td>6.55</td>\n",
       "      <td>0.1910</td>\n",
       "      <td>13.7204</td>\n",
       "      <td>1.19322</td>\n",
       "      <td>0.25652</td>\n",
       "      <td>1403.37519</td>\n",
       "      <td>278.93069</td>\n",
       "    </tr>\n",
       "  </tbody>\n",
       "</table>\n",
       "</div>"
      ],
      "text/plain": [
       "   level_0  index        a        e        i         om          w        q  \\\n",
       "0        4      4  2.57425  0.19109  5.36699  141.57660  358.68761  2.08232   \n",
       "1        6      6  2.38533  0.23121  5.52365  259.56323  145.26511  1.83383   \n",
       "2        7      7  2.20176  0.15650  5.88695  110.88933  285.28746  1.85719   \n",
       "3        8      8  2.38564  0.12311  5.57682   68.90858    6.41737  2.09193   \n",
       "4       10     10  2.45311  0.10047  4.62989  125.54659  195.55040  2.20664   \n",
       "\n",
       "        ad    per_y  data_arc  n_obs_used     H  albedo  rot_per     moid  \\\n",
       "0  3.06617  4.13032   63507.0      2916.0  6.85  0.2740  16.8060  1.09589   \n",
       "1  2.93684  3.68410   62452.0      5206.0  5.51  0.2766   7.1390  0.84610   \n",
       "2  2.54634  3.26711   62655.0      2744.0  6.49  0.2260  12.8650  0.87418   \n",
       "3  2.67934  3.68481   61821.0      2649.0  6.28  0.1180   5.0790  1.10691   \n",
       "4  2.69958  3.84223   61755.0      5492.0  6.55  0.1910  13.7204  1.19322   \n",
       "\n",
       "         n         per         ma  \n",
       "0  0.23863  1508.60046  282.36629  \n",
       "1  0.26753  1345.61920  140.41966  \n",
       "2  0.30168  1193.31372  194.88290  \n",
       "3  0.26748  1345.87536  276.86162  \n",
       "4  0.25652  1403.37519  278.93069  "
      ]
     },
     "execution_count": 239,
     "metadata": {},
     "output_type": "execute_result"
    }
   ],
   "source": [
    "# Creating a target Dataset\n",
    "\n",
    "df1 = df.copy()\n",
    "y = df1.pop('diameter')\n",
    "df1.head()"
   ]
  },
  {
   "cell_type": "markdown",
   "metadata": {},
   "source": [
    "<h3 align=\"center\"><B>Splitting the Data</B></h3>"
   ]
  },
  {
   "cell_type": "markdown",
   "metadata": {},
   "source": [
    "**Stratified Sampling**</br>\n",
    "[Click to know more](https://www.youtube.com/watch?v=sYRUYJYOpG0) <br>"
   ]
  },
  {
   "cell_type": "code",
   "execution_count": 274,
   "metadata": {},
   "outputs": [
    {
     "data": {
      "text/plain": [
       "<AxesSubplot:>"
      ]
     },
     "execution_count": 274,
     "metadata": {},
     "output_type": "execute_result"
    },
    {
     "data": {
      "image/png": "[encoded data removed]",
      "text/plain": [
       "<Figure size 432x288 with 1 Axes>"
      ]
     },
     "metadata": {},
     "output_type": "display_data"
    }
   ],
   "source": [
    "# Now we will perform stratified sampling\n",
    "# we will divide the data into groups according to diameter\n",
    "# so that we can split the dataset into train and test samples such that both the samples have equal proportions of all groups\n",
    "\n",
    "df['diameter_grp'] = pd.cut(df['diameter'],\n",
    "                            bins=[0., 4., 8., 18., 60., np.inf], # diameter values 0-4 in grp 1, 4-8 in grp 2, etc. \n",
    "                            labels=[1, 2, 3, 4, 5]) # name of groups\n",
    "\n",
    "df[\"diameter_grp\"].hist() # shows the number of samples in each diameter group"
   ]
  },
  {
   "cell_type": "code",
   "execution_count": 241,
   "metadata": {},
   "outputs": [],
   "source": [
    "from sklearn.model_selection import StratifiedShuffleSplit\n",
    "\n",
    "split = StratifiedShuffleSplit(test_size=0.2, random_state=1)\n",
    "# Lets go with a smaller test size as we have a lot of data\n",
    "\n",
    "for train_index, test_index in split.split(df, df['diameter_grp']):\n",
    "    dftrain = df.loc[train_index]\n",
    "    dftest =  df.loc[test_index]\n",
    "\n",
    "dftrain.pop(\"level_0\")\n",
    "dftrain.pop(\"index\")\n",
    "dftest.pop(\"level_0\")\n",
    "dftest.pop(\"index\")\n",
    "\n",
    "# Creating a target Dataset\n",
    "ytrain = dftrain.pop('diameter')\n",
    "ytest = dftest.pop('diameter')"
   ]
  },
  {
   "cell_type": "code",
   "execution_count": 242,
   "metadata": {},
   "outputs": [
    {
     "data": {
      "text/plain": [
       "2    0.343551\n",
       "1    0.250964\n",
       "3    0.215380\n",
       "4    0.138747\n",
       "5    0.051358\n",
       "Name: diameter_grp, dtype: float64"
      ]
     },
     "execution_count": 242,
     "metadata": {},
     "output_type": "execute_result"
    }
   ],
   "source": [
    "df['diameter_grp'].value_counts() / len(df) \n",
    "# proprtions of each group in original dataset"
   ]
  },
  {
   "cell_type": "code",
   "execution_count": 243,
   "metadata": {},
   "outputs": [
    {
     "data": {
      "text/plain": [
       "2    0.343529\n",
       "1    0.250980\n",
       "3    0.215350\n",
       "4    0.138711\n",
       "5    0.051429\n",
       "Name: diameter_grp, dtype: float64"
      ]
     },
     "execution_count": 243,
     "metadata": {},
     "output_type": "execute_result"
    }
   ],
   "source": [
    "dftrain['diameter_grp'].value_counts() / len(dftrain) \n",
    "# proprtions of each group in splitted dataset\n",
    "# As you can see, the proportions from original dataset are almost equal to the splitted dataset."
   ]
  },
  {
   "cell_type": "code",
   "execution_count": 244,
   "metadata": {},
   "outputs": [
    {
     "data": {
      "text/html": [
       "<div>\n",
       "<style scoped>\n",
       "    .dataframe tbody tr th:only-of-type {\n",
       "        vertical-align: middle;\n",
       "    }\n",
       "\n",
       "    .dataframe tbody tr th {\n",
       "        vertical-align: top;\n",
       "    }\n",
       "\n",
       "    .dataframe thead th {\n",
       "        text-align: right;\n",
       "    }\n",
       "</style>\n",
       "<table border=\"1\" class=\"dataframe\">\n",
       "  <thead>\n",
       "    <tr style=\"text-align: right;\">\n",
       "      <th></th>\n",
       "      <th>a</th>\n",
       "      <th>e</th>\n",
       "      <th>i</th>\n",
       "      <th>om</th>\n",
       "      <th>w</th>\n",
       "      <th>q</th>\n",
       "      <th>ad</th>\n",
       "      <th>per_y</th>\n",
       "      <th>data_arc</th>\n",
       "      <th>n_obs_used</th>\n",
       "      <th>H</th>\n",
       "      <th>albedo</th>\n",
       "      <th>rot_per</th>\n",
       "      <th>moid</th>\n",
       "      <th>n</th>\n",
       "      <th>per</th>\n",
       "      <th>ma</th>\n",
       "    </tr>\n",
       "  </thead>\n",
       "  <tbody>\n",
       "    <tr>\n",
       "      <th>9644</th>\n",
       "      <td>3.14309</td>\n",
       "      <td>0.13676</td>\n",
       "      <td>14.43500</td>\n",
       "      <td>182.58524</td>\n",
       "      <td>101.73042</td>\n",
       "      <td>2.71325</td>\n",
       "      <td>3.57293</td>\n",
       "      <td>5.57242</td>\n",
       "      <td>24511.0</td>\n",
       "      <td>836.0</td>\n",
       "      <td>14.0</td>\n",
       "      <td>0.071</td>\n",
       "      <td>10.814</td>\n",
       "      <td>1.74389</td>\n",
       "      <td>0.17688</td>\n",
       "      <td>2035.32535</td>\n",
       "      <td>108.75065</td>\n",
       "    </tr>\n",
       "    <tr>\n",
       "      <th>7496</th>\n",
       "      <td>2.60796</td>\n",
       "      <td>0.10832</td>\n",
       "      <td>14.39217</td>\n",
       "      <td>186.25717</td>\n",
       "      <td>101.52556</td>\n",
       "      <td>2.32546</td>\n",
       "      <td>2.89046</td>\n",
       "      <td>4.21172</td>\n",
       "      <td>10101.0</td>\n",
       "      <td>1474.0</td>\n",
       "      <td>13.8</td>\n",
       "      <td>0.168</td>\n",
       "      <td>3.480</td>\n",
       "      <td>1.36032</td>\n",
       "      <td>0.23402</td>\n",
       "      <td>1538.33054</td>\n",
       "      <td>253.84377</td>\n",
       "    </tr>\n",
       "    <tr>\n",
       "      <th>3674</th>\n",
       "      <td>2.23647</td>\n",
       "      <td>0.10110</td>\n",
       "      <td>3.04870</td>\n",
       "      <td>333.83792</td>\n",
       "      <td>107.90532</td>\n",
       "      <td>2.01036</td>\n",
       "      <td>2.46258</td>\n",
       "      <td>3.34466</td>\n",
       "      <td>24072.0</td>\n",
       "      <td>1887.0</td>\n",
       "      <td>13.4</td>\n",
       "      <td>0.249</td>\n",
       "      <td>14.269</td>\n",
       "      <td>1.02863</td>\n",
       "      <td>0.29469</td>\n",
       "      <td>1221.63700</td>\n",
       "      <td>149.37106</td>\n",
       "    </tr>\n",
       "    <tr>\n",
       "      <th>1952</th>\n",
       "      <td>3.13889</td>\n",
       "      <td>0.11470</td>\n",
       "      <td>14.42354</td>\n",
       "      <td>174.65515</td>\n",
       "      <td>166.40103</td>\n",
       "      <td>2.77886</td>\n",
       "      <td>3.49893</td>\n",
       "      <td>5.56126</td>\n",
       "      <td>31635.0</td>\n",
       "      <td>2285.0</td>\n",
       "      <td>11.4</td>\n",
       "      <td>0.061</td>\n",
       "      <td>11.600</td>\n",
       "      <td>1.77258</td>\n",
       "      <td>0.17723</td>\n",
       "      <td>2031.24972</td>\n",
       "      <td>24.07332</td>\n",
       "    </tr>\n",
       "    <tr>\n",
       "      <th>7335</th>\n",
       "      <td>3.13897</td>\n",
       "      <td>0.19450</td>\n",
       "      <td>14.32578</td>\n",
       "      <td>281.82393</td>\n",
       "      <td>191.48415</td>\n",
       "      <td>2.52844</td>\n",
       "      <td>3.74950</td>\n",
       "      <td>5.56146</td>\n",
       "      <td>8186.0</td>\n",
       "      <td>1298.0</td>\n",
       "      <td>12.7</td>\n",
       "      <td>0.059</td>\n",
       "      <td>7.859</td>\n",
       "      <td>1.54692</td>\n",
       "      <td>0.17722</td>\n",
       "      <td>2031.32429</td>\n",
       "      <td>8.83503</td>\n",
       "    </tr>\n",
       "  </tbody>\n",
       "</table>\n",
       "</div>"
      ],
      "text/plain": [
       "            a        e         i         om          w        q       ad  \\\n",
       "9644  3.14309  0.13676  14.43500  182.58524  101.73042  2.71325  3.57293   \n",
       "7496  2.60796  0.10832  14.39217  186.25717  101.52556  2.32546  2.89046   \n",
       "3674  2.23647  0.10110   3.04870  333.83792  107.90532  2.01036  2.46258   \n",
       "1952  3.13889  0.11470  14.42354  174.65515  166.40103  2.77886  3.49893   \n",
       "7335  3.13897  0.19450  14.32578  281.82393  191.48415  2.52844  3.74950   \n",
       "\n",
       "        per_y  data_arc  n_obs_used     H  albedo  rot_per     moid        n  \\\n",
       "9644  5.57242   24511.0       836.0  14.0   0.071   10.814  1.74389  0.17688   \n",
       "7496  4.21172   10101.0      1474.0  13.8   0.168    3.480  1.36032  0.23402   \n",
       "3674  3.34466   24072.0      1887.0  13.4   0.249   14.269  1.02863  0.29469   \n",
       "1952  5.56126   31635.0      2285.0  11.4   0.061   11.600  1.77258  0.17723   \n",
       "7335  5.56146    8186.0      1298.0  12.7   0.059    7.859  1.54692  0.17722   \n",
       "\n",
       "             per         ma  \n",
       "9644  2035.32535  108.75065  \n",
       "7496  1538.33054  253.84377  \n",
       "3674  1221.63700  149.37106  \n",
       "1952  2031.24972   24.07332  \n",
       "7335  2031.32429    8.83503  "
      ]
     },
     "execution_count": 244,
     "metadata": {},
     "output_type": "execute_result"
    }
   ],
   "source": [
    "# Now that we have splitted the data proportionally, we no longer need diameter_grp column\n",
    "# If we keep it, it may interfere with the training of the model\n",
    "\n",
    "for set_ in(dftrain, dftest):\n",
    "    set_.drop(\"diameter_grp\", axis=1, inplace=True)\n",
    "dftrain.head()"
   ]
  },
  {
   "cell_type": "code",
   "execution_count": 245,
   "metadata": {},
   "outputs": [
    {
     "data": {
      "text/plain": [
       "array([[0.49048984, 0.15172738, 0.22500543, ..., 0.05708164, 0.38197459,\n",
       "        0.30198311],\n",
       "       [0.38553688, 0.1199096 , 0.22433584, ..., 0.08807703, 0.27921154,\n",
       "        0.70509524],\n",
       "       [0.31267798, 0.1118321 , 0.04699489, ..., 0.12098725, 0.21372918,\n",
       "        0.41483877],\n",
       "       ...,\n",
       "       [0.39775749, 0.22167278, 0.18150202, ..., 0.08366151, 0.29067936,\n",
       "        0.97733438],\n",
       "       [0.34767865, 0.14314642, 0.05243965, ..., 0.10359642, 0.2445587 ,\n",
       "        0.4919245 ],\n",
       "       [0.39305243, 0.01096393, 0.0553677 , ..., 0.08532682, 0.28624806,\n",
       "        0.76176858]])"
      ]
     },
     "execution_count": 245,
     "metadata": {},
     "output_type": "execute_result"
    }
   ],
   "source": [
    "#  Creating scaled datasets\n",
    "\n",
    "# It is suggested to scale data before using Lasso\n",
    "from sklearn.preprocessing import MinMaxScaler\n",
    "scale = MinMaxScaler()\n",
    "sdftrain = scale.fit_transform(dftrain)\n",
    "sdftest = scale.fit_transform(dftest)\n",
    "sdftrain # All the values now lie between 0 to 1"
   ]
  },
  {
   "cell_type": "markdown",
   "metadata": {},
   "source": [
    "<h1 align=\"center\">📊Seaborn Widget</h1>"
   ]
  },
  {
   "cell_type": "code",
   "execution_count": 275,
   "metadata": {},
   "outputs": [],
   "source": [
    "# This widget helped me a lot to find relation between variables and detect Outliers\n",
    "# Open in jupyter notebook, as you cannot access this in git\n",
    "from ipywidgets import interactive\n",
    "def size_widget(height=5.5, aspect=2.5, Y='diameter', X='ma', Kind='scatter'):\n",
    "    sns.pairplot(df, hue='diameter_grp', palette='RdYlBu', x_vars=X, y_vars=Y, height=height, aspect=aspect, kind=Kind)"
   ]
  },
  {
   "cell_type": "markdown",
   "metadata": {},
   "source": [
    "- Y: Column to plot on Y-axis\n",
    "- X: Column to plot on X-axis\n",
    "- Kind: Type of graph (kde will take time to load)"
   ]
  },
  {
   "cell_type": "code",
   "execution_count": 276,
   "metadata": {},
   "outputs": [
    {
     "data": {
      "application/vnd.jupyter.widget-view+json": {
       "model_id": "c7683a41bff343d78523ffd04c401e20",
       "version_major": 2,
       "version_minor": 0
      },
      "text/plain": [
       "interactive(children=(FloatSlider(value=5.5, description='height', max=10.0, min=3.0, step=0.25), FloatSlider(…"
      ]
     },
     "metadata": {},
     "output_type": "display_data"
    }
   ],
   "source": [
    "interactive(size_widget, X = columns, Y= columns,  height=(3, 10, 0.25), aspect=(0.6, 2.5, 0.5), Kind=['scatter','hist','reg','kde'])"
   ]
  },
  {
   "cell_type": "markdown",
   "metadata": {},
   "source": [
    "<h1 align=\"center\">🤖Implementing ML models</h1>"
   ]
  },
  {
   "cell_type": "markdown",
   "metadata": {},
   "source": [
    "<h3 align=\"center\"><B>Linear Regression</B></h3>"
   ]
  },
  {
   "cell_type": "code",
   "execution_count": 248,
   "metadata": {},
   "outputs": [
    {
     "data": {
      "text/plain": [
       "array([15.74553638, 23.9511359 , 33.49711578, ..., 21.27304556,\n",
       "       21.44163091,  6.42846593])"
      ]
     },
     "execution_count": 248,
     "metadata": {},
     "output_type": "execute_result"
    }
   ],
   "source": [
    "from sklearn.linear_model import LinearRegression\n",
    "# Scaled data not used since it fails in Linear Regression\n",
    "model = LinearRegression()\n",
    "model.fit(dftrain, ytrain)\n",
    "pred = model.predict(dftest)\n",
    "pred"
   ]
  },
  {
   "cell_type": "markdown",
   "metadata": {},
   "source": [
    "*Performace metrics*"
   ]
  },
  {
   "cell_type": "code",
   "execution_count": 249,
   "metadata": {},
   "outputs": [
    {
     "name": "stdout",
     "output_type": "stream",
     "text": [
      "175.66093311569216\n",
      "13.253713936693071\n",
      "8.43612876253584\n"
     ]
    }
   ],
   "source": [
    "# Low Performance may be because none of the variables in the dataset share a linear relationship with diameter\n",
    "from sklearn.metrics import mean_squared_error\n",
    "from sklearn.metrics import mean_absolute_error\n",
    "linearMSE = mean_squared_error(pred,ytest)\n",
    "linearRMSE = mean_squared_error(pred,ytest, squared=False)\n",
    "linearMAE = mean_absolute_error(pred, ytest)\n",
    "print(linearMSE)\n",
    "print(linearRMSE)\n",
    "print(linearMAE)\n"
   ]
  },
  {
   "cell_type": "markdown",
   "metadata": {},
   "source": [
    "<h3 align=\"center\"><B>Lasso</B></h3>"
   ]
  },
  {
   "cell_type": "code",
   "execution_count": 250,
   "metadata": {},
   "outputs": [
    {
     "data": {
      "text/plain": [
       "array([17.95047925, 22.61377044, 43.53863178, ..., 16.97706911,\n",
       "       20.70715364,  2.7395412 ])"
      ]
     },
     "execution_count": 250,
     "metadata": {},
     "output_type": "execute_result"
    }
   ],
   "source": [
    "from sklearn.linear_model import Lasso\n",
    "\n",
    "# Lasso on unscaled data\n",
    "# Unscaled data produces negative predictions\n",
    "model = Lasso()\n",
    "model.fit(dftrain, ytrain)\n",
    "pred = model.predict(dftest)\n",
    "pred"
   ]
  },
  {
   "cell_type": "code",
   "execution_count": 251,
   "metadata": {},
   "outputs": [
    {
     "name": "stdout",
     "output_type": "stream",
     "text": [
      "194.45647188457013\n",
      "13.944765035115154\n",
      "8.796108152993838\n"
     ]
    }
   ],
   "source": [
    "Lasso_unscaledMSE = mean_squared_error(pred,ytest)\n",
    "# Unscaled data is giving less error\n",
    "Lasso_unscaledRMSE = mean_squared_error(pred,ytest, squared=False) \n",
    "Lasso_unscaledMAE = mean_absolute_error(pred, ytest)\n",
    "print(Lasso_unscaledMSE)\n",
    "print(Lasso_unscaledRMSE)\n",
    "print(Lasso_unscaledMAE)"
   ]
  },
  {
   "cell_type": "code",
   "execution_count": 252,
   "metadata": {},
   "outputs": [
    {
     "data": {
      "text/plain": [
       "array([12.89661993, 13.03221715, 35.66141302, ..., 10.10657318,\n",
       "       27.23681531, 12.1145331 ])"
      ]
     },
     "execution_count": 252,
     "metadata": {},
     "output_type": "execute_result"
    }
   ],
   "source": [
    "# Lasso on scaled data\n",
    "# Scaled data eliminates negative predictions in Lasso \n",
    "model = Lasso()\n",
    "model.fit(sdftrain, ytrain)\n",
    "pred = model.predict(sdftest)\n",
    "pred  "
   ]
  },
  {
   "cell_type": "code",
   "execution_count": 253,
   "metadata": {},
   "outputs": [
    {
     "name": "stdout",
     "output_type": "stream",
     "text": [
      "292.8020865057817\n",
      "17.111460677153826\n"
     ]
    }
   ],
   "source": [
    "Lasso_scaledMSE = mean_squared_error(pred,ytest)\n",
    "# Scaled data giving higher error\n",
    "Lasso_scaledRMSE = mean_squared_error(pred,ytest, squared=False) \n",
    "print(Lasso_scaledMSE)\n",
    "print(Lasso_scaledRMSE)"
   ]
  },
  {
   "cell_type": "markdown",
   "metadata": {},
   "source": [
    "- Inference: Lasso performs better on unscaled data"
   ]
  },
  {
   "cell_type": "markdown",
   "metadata": {},
   "source": [
    "<h3 align=\"center\"><B>Ridge</B></h3>"
   ]
  },
  {
   "cell_type": "code",
   "execution_count": 254,
   "metadata": {},
   "outputs": [
    {
     "data": {
      "text/plain": [
       "array([15.64498367, 23.7297116 , 33.06924446, ..., 21.00340326,\n",
       "       21.71016074,  6.67615006])"
      ]
     },
     "execution_count": 254,
     "metadata": {},
     "output_type": "execute_result"
    }
   ],
   "source": [
    "from sklearn.linear_model import Ridge\n",
    "\n",
    "model = Ridge()\n",
    "model.fit(dftrain, ytrain)\n",
    "pred = model.predict(dftest)\n",
    "pred"
   ]
  },
  {
   "cell_type": "code",
   "execution_count": 255,
   "metadata": {},
   "outputs": [
    {
     "name": "stdout",
     "output_type": "stream",
     "text": [
      "175.25074187551698\n",
      "13.238230315095631\n",
      "8.414708181925345\n"
     ]
    }
   ],
   "source": [
    "RidgeMSE = mean_squared_error(pred, ytest)\n",
    "RidgeRMSE = mean_squared_error(pred, ytest, squared=False)\n",
    "RidgeMAE = mean_absolute_error(pred, ytest)\n",
    "print(RidgeMSE)\n",
    "print(RidgeRMSE)\n",
    "print(RidgeMAE)"
   ]
  },
  {
   "cell_type": "markdown",
   "metadata": {},
   "source": [
    "<h3 align=\"center\"><B>Decision Tree</B></h3>"
   ]
  },
  {
   "cell_type": "code",
   "execution_count": 256,
   "metadata": {},
   "outputs": [
    {
     "data": {
      "text/plain": [
       "array([ 8.47870779, 16.20717735, 26.52348062, ...,  6.93116885,\n",
       "        8.47870779,  6.93116885])"
      ]
     },
     "execution_count": 256,
     "metadata": {},
     "output_type": "execute_result"
    }
   ],
   "source": [
    "from sklearn.tree import DecisionTreeRegressor\n",
    "\n",
    "model = DecisionTreeRegressor(random_state=0, max_depth= 4)\n",
    "model.fit(dftrain, ytrain)\n",
    "pred = model.predict(dftest)\n",
    "pred"
   ]
  },
  {
   "cell_type": "code",
   "execution_count": 257,
   "metadata": {},
   "outputs": [],
   "source": [
    "# Visualizing our decision tree\n",
    "# Requires dtreeviz to be installed on your pc \n",
    "# Commented out to prevent interuption \n",
    "# Else you can find the visualization in the README.md file\n",
    "\n",
    "#from dtreeviz.trees import *\n",
    "#from IPython.display import Image, display_svg, SVG\n",
    "#columns=['a', 'e', 'i', 'om', 'w', 'q', 'ad', 'per_y', 'data_arc', 'n_obs_used', 'H', 'albedo', 'rot_per', 'moid','n', 'per', 'ma']\n",
    "\n",
    "#viz = dtreeviz(model, sdftrain, ytrain, feature_names=columns, target_name='diameter')\n",
    "#viz.save(\"decision_tree.svg\")\n",
    "#viz"
   ]
  },
  {
   "cell_type": "markdown",
   "metadata": {},
   "source": [
    "*We previously saw that H showed a clear negative trend with respect to diameter*</br>\n",
    "*In the above visualization of the decision tree we can see that H is the variable used in most of the nodes*"
   ]
  },
  {
   "cell_type": "code",
   "execution_count": 258,
   "metadata": {},
   "outputs": [
    {
     "name": "stdout",
     "output_type": "stream",
     "text": [
      "30.6590125561964\n",
      "5.537058113853998\n",
      "2.9915500929828727\n"
     ]
    }
   ],
   "source": [
    "Decision_treeMSE = mean_squared_error(pred, ytest)\n",
    "Decision_treeRMSE = mean_squared_error(pred, ytest, squared=False)\n",
    "Decision_treeMAE = mean_absolute_error(pred, ytest)\n",
    "print(Decision_treeMSE)\n",
    "print(Decision_treeRMSE)\n",
    "print(Decision_treeMAE)"
   ]
  },
  {
   "cell_type": "markdown",
   "metadata": {},
   "source": [
    "- I also tried Cost-complexity-pruning on Decision Tree but it didn't seem to have any special effect.  \n",
    "[Click to know more](https://scikit-learn.org/stable/auto_examples/tree/plot_cost_complexity_pruning.html) <br>"
   ]
  },
  {
   "cell_type": "markdown",
   "metadata": {},
   "source": [
    "<h3 align=\"center\"><B>Random Forest</B></h3>"
   ]
  },
  {
   "cell_type": "code",
   "execution_count": 259,
   "metadata": {},
   "outputs": [
    {
     "data": {
      "text/plain": [
       "array([ 9.22228031, 14.74881878, 17.14611237, ..., 12.98454231,\n",
       "        7.37731318,  7.05059384])"
      ]
     },
     "execution_count": 259,
     "metadata": {},
     "output_type": "execute_result"
    }
   ],
   "source": [
    "from sklearn.ensemble import RandomForestRegressor\n",
    "\n",
    "model = RandomForestRegressor(random_state=0, max_depth=10)\n",
    "model.fit(dftrain, ytrain)\n",
    "pred = model.predict(dftest)\n",
    "pred"
   ]
  },
  {
   "cell_type": "code",
   "execution_count": 260,
   "metadata": {},
   "outputs": [
    {
     "name": "stdout",
     "output_type": "stream",
     "text": [
      "10.400693143315879\n",
      "3.2250105648378704\n",
      "1.178764860364035\n"
     ]
    }
   ],
   "source": [
    "RandomForestMSE = mean_squared_error(pred, ytest)\n",
    "RandomForestRMSE = mean_squared_error(pred, ytest, squared=False)\n",
    "RandomForestMAE = mean_absolute_error(pred, ytest)\n",
    "print(RandomForestMSE)\n",
    "print(RandomForestRMSE)\n",
    "print(RandomForestMAE)"
   ]
  },
  {
   "cell_type": "markdown",
   "metadata": {},
   "source": [
    "<h3 align=\"center\"><B>Random Forest with Hyperparameter Tuning</B></h3>"
   ]
  },
  {
   "cell_type": "code",
   "execution_count": 261,
   "metadata": {},
   "outputs": [],
   "source": [
    "# Parameter grid that we will use to tune RandomForest\n",
    "\n",
    "n_estimators = [int(x) for x in np.linspace(start = 10, stop = 80, num = 10)]\n",
    "max_features = ['auto', 'sqrt']\n",
    "max_depth = [2,4]\n",
    "min_samples_split = [2, 5]\n",
    "min_samples_leaf = [1, 2]\n",
    "bootstrap = [True, False]"
   ]
  },
  {
   "cell_type": "code",
   "execution_count": 262,
   "metadata": {},
   "outputs": [],
   "source": [
    "param_grid = {'n_estimators': n_estimators,\n",
    "               'max_features': max_features,\n",
    "               'max_depth': max_depth,\n",
    "               'min_samples_split': min_samples_split,\n",
    "               'min_samples_leaf': min_samples_leaf,\n",
    "               'bootstrap': bootstrap}"
   ]
  },
  {
   "cell_type": "code",
   "execution_count": 263,
   "metadata": {},
   "outputs": [],
   "source": [
    "# Running GridSearchCV to find the best parameters for our model\n",
    "\n",
    "# Commented out for better performace while running the notebook\n",
    "#rf_Model = RandomForestRegressor()\n",
    "#from sklearn.model_selection import GridSearchCV\n",
    "#rf_Grid = GridSearchCV(estimator = rf_Model, param_grid = param_grid, cv = 3, verbose=2, n_jobs = 4)\n",
    "#rf_Grid.fit(sdftrain, ytrain)\n",
    "#rf_Grid.best_params_"
   ]
  },
  {
   "cell_type": "code",
   "execution_count": 264,
   "metadata": {},
   "outputs": [
    {
     "data": {
      "text/plain": [
       "array([ 9.00015085, 11.93338245, 22.67549958, ...,  9.13104636,\n",
       "        9.00015085,  5.8478923 ])"
      ]
     },
     "execution_count": 264,
     "metadata": {},
     "output_type": "execute_result"
    }
   ],
   "source": [
    "from sklearn.ensemble import RandomForestRegressor\n",
    "\n",
    "model = RandomForestRegressor(bootstrap=True, max_depth=4, max_features = 'auto', min_samples_leaf=2, min_samples_split=5, n_estimators=25, random_state=1)\n",
    "model.fit(dftrain, ytrain)\n",
    "pred = model.predict(dftest)\n",
    "pred"
   ]
  },
  {
   "cell_type": "code",
   "execution_count": 265,
   "metadata": {},
   "outputs": [
    {
     "name": "stdout",
     "output_type": "stream",
     "text": [
      "17.28743048410192\n",
      "4.157815590439519\n",
      "2.292163022281441\n"
     ]
    }
   ],
   "source": [
    "RandomForest_hyperMSE = mean_squared_error(pred, ytest)\n",
    "# This model offers performance similar to the one without Hyperparameter optimization\n",
    "RandomForest_hyperRMSE = mean_squared_error(pred, ytest, squared=False)\n",
    "RandomForest_hyperMAE = mean_absolute_error(pred, ytest)\n",
    "print(RandomForest_hyperMSE)\n",
    "print(RandomForest_hyperRMSE)\n",
    "print(RandomForest_hyperMAE)"
   ]
  },
  {
   "cell_type": "markdown",
   "metadata": {},
   "source": [
    "<h3 align=\"center\"><B>Support Vector Regressor</B></h3>"
   ]
  },
  {
   "cell_type": "code",
   "execution_count": 266,
   "metadata": {},
   "outputs": [
    {
     "data": {
      "text/plain": [
       "array([ 8.87441747,  9.4193603 , 39.82507643, ...,  7.55984496,\n",
       "       14.72158554,  5.06346433])"
      ]
     },
     "execution_count": 266,
     "metadata": {},
     "output_type": "execute_result"
    }
   ],
   "source": [
    "from sklearn.svm import SVR\n",
    "\n",
    "model = SVR()\n",
    "model.fit(dftrain, ytrain)\n",
    "pred = model.predict(dftest)\n",
    "pred"
   ]
  },
  {
   "cell_type": "code",
   "execution_count": 267,
   "metadata": {},
   "outputs": [
    {
     "name": "stdout",
     "output_type": "stream",
     "text": [
      "209.44214595420257\n",
      "14.472116153286034\n",
      "6.342710138962517\n"
     ]
    }
   ],
   "source": [
    "svr_MSE = mean_squared_error(pred, ytest)\n",
    "svr_RMSE = mean_squared_error(pred, ytest, squared=False)\n",
    "svr_MAE = mean_absolute_error(pred, ytest)\n",
    "print(svr_MSE)\n",
    "print(svr_RMSE)\n",
    "print(svr_MAE)"
   ]
  },
  {
   "cell_type": "markdown",
   "metadata": {},
   "source": [
    "<h3 align=\"center\"><B>KNN Regressor</B></h3>"
   ]
  },
  {
   "cell_type": "code",
   "execution_count": 268,
   "metadata": {},
   "outputs": [
    {
     "data": {
      "text/plain": [
       "array([13.59  , 26.2858, 14.5602, ..., 14.593 , 15.6618, 12.2358])"
      ]
     },
     "execution_count": 268,
     "metadata": {},
     "output_type": "execute_result"
    }
   ],
   "source": [
    "from sklearn.neighbors import KNeighborsRegressor\n",
    "\n",
    "model = KNeighborsRegressor()\n",
    "model.fit(sdftrain, ytrain)\n",
    "pred = model.predict(sdftest)\n",
    "pred"
   ]
  },
  {
   "cell_type": "code",
   "execution_count": 269,
   "metadata": {},
   "outputs": [
    {
     "name": "stdout",
     "output_type": "stream",
     "text": [
      "190.45876224704753\n",
      "13.800679774817164\n",
      "7.484726388888888\n"
     ]
    }
   ],
   "source": [
    "knn_MSE = mean_squared_error(pred, ytest)\n",
    "knn_RMSE = mean_squared_error(pred, ytest, squared=False)\n",
    "knn_MAE = mean_absolute_error(pred, ytest)\n",
    "print(knn_MSE)\n",
    "print(knn_RMSE)\n",
    "print(knn_MAE)"
   ]
  },
  {
   "cell_type": "markdown",
   "metadata": {},
   "source": [
    "<h3 align=\"center\"><B>XGBoost Regressor</B></h3>"
   ]
  },
  {
   "cell_type": "code",
   "execution_count": 270,
   "metadata": {},
   "outputs": [
    {
     "data": {
      "text/plain": [
       "array([ 9.534056 , 14.767688 , 13.324388 , ..., 13.817564 ,  7.4006014,\n",
       "        7.2259784], dtype=float32)"
      ]
     },
     "execution_count": 270,
     "metadata": {},
     "output_type": "execute_result"
    }
   ],
   "source": [
    "from xgboost import XGBRegressor\n",
    "\n",
    "model = XGBRegressor(n_estimators=1000, max_depth=7, eta=0.1, subsample=0.7, colsample_bytree=0.8)\n",
    "model.fit(dftrain, ytrain)\n",
    "pred = model.predict(dftest)\n",
    "pred"
   ]
  },
  {
   "cell_type": "code",
   "execution_count": 271,
   "metadata": {},
   "outputs": [
    {
     "name": "stdout",
     "output_type": "stream",
     "text": [
      "9.867930689883902\n",
      "3.141326262883864\n",
      "1.2129299725643274\n"
     ]
    }
   ],
   "source": [
    "xgb_MSE = mean_squared_error(pred, ytest)\n",
    "xgb_RMSE = mean_squared_error(pred, ytest, squared=False)\n",
    "xgb_MAE = mean_absolute_error(pred, ytest)\n",
    "print(xgb_MSE)\n",
    "print(xgb_RMSE)\n",
    "print(xgb_MAE)"
   ]
  },
  {
   "cell_type": "markdown",
   "metadata": {},
   "source": [
    "<h1 align=\"center\">☄️Comparing the Models</h1>"
   ]
  },
  {
   "cell_type": "code",
   "execution_count": 272,
   "metadata": {},
   "outputs": [
    {
     "data": {
      "text/plain": [
       "<matplotlib.legend.Legend at 0x217e60cb220>"
      ]
     },
     "execution_count": 272,
     "metadata": {},
     "output_type": "execute_result"
    },
    {
     "data": {
      "image/png": "[encoded data removed]",
      "text/plain": [
       "<Figure size 576x360 with 1 Axes>"
      ]
     },
     "metadata": {},
     "output_type": "display_data"
    }
   ],
   "source": [
    "import matplotlib.pyplot as plt\n",
    "\n",
    "models=['Linear Regression', 'Lasso (unscaled)', 'Ridge (unscaled)', 'Support Vector', 'KNN', 'Decision tree', 'Random Forest', 'Random Forest(Tuned)', 'XGBoost Regressor' ]\n",
    "ValuesM=[linearMSE/10, Lasso_unscaledMSE/10, RidgeMSE/10, svr_MSE/10, knn_MSE/10, Decision_treeMSE/10, RandomForestMSE/10, RandomForest_hyperMSE/10, xgb_MSE/10]\n",
    "ValuesR=[linearRMSE, Lasso_unscaledRMSE, RidgeRMSE, svr_RMSE, knn_RMSE, Decision_treeRMSE, RandomForestRMSE, RandomForest_hyperRMSE, xgb_RMSE]\n",
    "ValuesA=[linearMAE, Lasso_unscaledMAE, RidgeMAE, svr_MAE, knn_MAE, Decision_treeMAE, RandomForestMAE, RandomForest_hyperMAE, xgb_MAE]\n",
    "ypos = np.arange(len(models))\n",
    "\n",
    "#size of graph\n",
    "plt.figure(figsize=(8, 5))\n",
    "#angle of x ticks\n",
    "plt.xticks(rotation=90, fontsize=13)\n",
    "plt.yticks(rotation=90, fontsize=10)\n",
    "# Plotting RMSE\n",
    "plt.bar(models, ValuesR, width=0.25, align='edge', color='palegreen', label = \"RMSE\")\n",
    "# Plotting MAE\n",
    "plt.bar(models, ValuesA, width=0.25, align='edge', color='turquoise', label = \"MAE\")\n",
    "# Plotting MSE\n",
    "plt.bar(models, ValuesM, width=0.25, color='lightsalmon', label=\"MSE / 10\")\n",
    "plt.xlabel(\"Models\", fontsize = 20)\n",
    "plt.ylabel(\"Error\", fontsize= 15, rotation= 90)\n",
    "plt.legend()\n",
    "\n",
    "# MSE has been scaled down by a factor of 10"
   ]
  }
 ],
 "metadata": {
  "interpreter": {
   "hash": "e5fa86b5a5e86d3f58c0e73e1febf3bcec6167aec89d00628108d602ef30b130"
  },
  "kernelspec": {
   "display_name": "Python 3.9.7 64-bit",
   "name": "python3"
  },
  "language_info": {
   "codemirror_mode": {
    "name": "ipython",
    "version": 3
   },
   "file_extension": ".py",
   "mimetype": "text/x-python",
   "name": "python",
   "nbconvert_exporter": "python",
   "pygments_lexer": "ipython3",
   "version": "3.9.7"
  },
  "orig_nbformat": 4
 },
 "nbformat": 4,
 "nbformat_minor": 2
}
